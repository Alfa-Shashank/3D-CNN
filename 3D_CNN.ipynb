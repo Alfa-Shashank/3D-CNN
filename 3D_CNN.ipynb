{
  "nbformat": 4,
  "nbformat_minor": 0,
  "metadata": {
    "accelerator": "GPU",
    "colab": {
      "name": "3D-CNN.ipynb",
      "provenance": []
    },
    "kernelspec": {
      "display_name": "Python 3",
      "name": "python3"
    },
    "language_info": {
      "name": "python"
    }
  },
  "cells": [
    {
      "cell_type": "code",
      "metadata": {
        "id": "xyWiZ6jOLHzM"
      },
      "source": [
        "from keras.layers import Dense, Flatten, Dropout, ZeroPadding3D,BatchNormalization,GlobalAveragePooling3D\n",
        "from keras.models import Sequential\n",
        "from keras.optimizers import Adam, RMSprop, SGD\n",
        "from keras.layers.convolutional import MaxPooling3D, Conv3D\n",
        "import cv2\n",
        "import os\n",
        "import random\n",
        "import pickle\n",
        "import numpy as np\n",
        "from sklearn.model_selection import train_test_split\n",
        "from sklearn.preprocessing import LabelBinarizer\n",
        "from tensorflow.keras.preprocessing.image import ImageDataGenerator\n",
        "import matplotlib.pyplot as plt\n",
        "%matplotlib inline\n",
        "import keras\n",
        "from collections import deque\n",
        "from google.colab.patches import cv2_imshow"
      ],
      "execution_count": null,
      "outputs": []
    },
    {
      "cell_type": "code",
      "metadata": {
        "id": "puHOQDR25s93"
      },
      "source": [
        ""
      ],
      "execution_count": null,
      "outputs": []
    },
    {
      "cell_type": "code",
      "metadata": {
        "colab": {
          "background_save": true
        },
        "id": "qaEzdn2odCC7"
      },
      "source": [
        "datadir = \"/content/drive/MyDrive/Colab Notebooks/3D-CNN/Dataset\"\n",
        "cat = [\"non-violent\", \"Violent\"]\n",
        "training_data = []\n",
        "for cate in cat:\n",
        "    path = os.path.join(datadir,cate)\n",
        "    class_num = cat.index(cate)\n",
        "    \n",
        "    for vid in os.listdir(path):\n",
        "        path1 = os.path.join(path,vid)\n",
        "        cap = cv2.VideoCapture(path1)\n",
        "        frames = []\n",
        "            \n",
        "        for k in range(50):\n",
        "            ret,frame = cap.read()\n",
        "            frame = cv2.resize(frame,(224,224))\n",
        "            frames.append(frame)\n",
        "            #cv2.imshow(\"window\",frame)\n",
        "            cv2.waitKey(10)\n",
        "                \n",
        "        cap.release()\n",
        "        cv2.destroyAllWindows()\n",
        "        training_data.append([frames,class_num])\n",
        "\n",
        "random.shuffle(training_data) # shuffling the dataset \n",
        "X = []\n",
        "Y = []\n",
        "for features,labels in training_data:\n",
        "    X.append(features)\n",
        "    Y.append(labels)\n",
        "    \n",
        "pickle_out = open(\"/content/drive/MyDrive/Colab Notebooks/3D-CNN/X_1.pickle\",\"wb\")\n",
        "pickle.dump(X, pickle_out)\n",
        "pickle_out.close()\n",
        "pickle_out = open(\"/content/drive/MyDrive/Colab Notebooks/3D-CNN/Y_1.pickle\",\"wb\")\n",
        "pickle.dump(Y, pickle_out)\n",
        "pickle_out.close()\n"
      ],
      "execution_count": null,
      "outputs": []
    },
    {
      "cell_type": "code",
      "metadata": {
        "id": "JzE22OwrMBvS"
      },
      "source": [
        "datadir = \"/content/drive/MyDrive/Colab Notebooks/3D-CNN/Dataset\"\n",
        "cat = [\"non-violent\", \"Violent\"]\n",
        "training_data = []\n",
        "for cate in cat:\n",
        "    path = os.path.join(datadir,cate)\n",
        "    class_num = cat.index(cate)\n",
        "    \n",
        "    count = 0\n",
        "    for vid in os.listdir(path):\n",
        "        path1 = os.path.join(path,vid)\n",
        "        count+=1\n",
        "        if count == 10:\n",
        "          break\n",
        "        cap = cv2.VideoCapture(path1)\n",
        "        frames = []\n",
        "        \n",
        "        \n",
        "        while True:\n",
        "            grabbed,frame = cap.read()\n",
        "            if not grabbed:\n",
        "                break\n",
        "            frame = cv2.resize(frame,(224,224))\n",
        "            \n",
        "          \n",
        "            frames.append(frame)\n",
        "            cv2.waitKey(10)\n",
        "              \n",
        "        cap.release()\n",
        "        training_data.append([frames,class_num])\n",
        "\n",
        "random.shuffle(training_data) # shuffling the dataset \n",
        "X = []\n",
        "Y = []\n",
        "for features,labels in training_data:\n",
        "    X.append(features)\n",
        "    Y.append(labels)\n",
        "    \n",
        "pickle_out = open(\"C:\\\\Users\\\\snsha\\\\Desktop\\\\3DCNN\\\\X_1.pickle\",\"wb\")\n",
        "pickle.dump(X, pickle_out)\n",
        "pickle_out.close()\n",
        "pickle_out = open(\"C:\\\\Users\\\\snsha\\\\Desktop\\\\3DCNN\\\\Y_1.pickle\",\"wb\")\n",
        "pickle.dump(Y, pickle_out)\n",
        "pickle_out.close()"
      ],
      "execution_count": null,
      "outputs": []
    },
    {
      "cell_type": "markdown",
      "metadata": {
        "id": "BmRiSVlUUKZQ"
      },
      "source": [
        ""
      ]
    },
    {
      "cell_type": "code",
      "metadata": {
        "id": "0BykZ0PWdfQO"
      },
      "source": [
        "if os.path.getsize(\"/content/drive/MyDrive/Colab Notebooks/3D-CNN/X_1.pickle\") > 0:\n",
        "    with open(\"/content/drive/MyDrive/Colab Notebooks/3D-CNN/X_1.pickle\",\"rb\") as f:\n",
        "        unpickler = pickle.Unpickler(f)\n",
        "        X = unpickler.load()\n",
        "    with open(\"/content/drive/MyDrive/Colab Notebooks/3D-CNN/Y_1.pickle\",\"rb\") as f:\n",
        "        unpickler = pickle.Unpickler(f)\n",
        "        Y = unpickler.load()\n",
        "\n",
        "#slpitting images into test and train sets\n",
        "x_train_orig, x_test_orig, y_train_orig, y_test_orig = train_test_split(X, Y, test_size=0.15, random_state=1)\n",
        "x_train = np.array(x_train_orig)\n",
        "x_test = np.array(x_test_orig)\n",
        "y_train = np.array(y_train_orig)\n",
        "y_test = np.array(y_test_orig)\n",
        "\n"
      ],
      "execution_count": null,
      "outputs": []
    },
    {
      "cell_type": "code",
      "metadata": {
        "id": "YwjL20JFUN7f"
      },
      "source": [
        "x_train.shape"
      ],
      "execution_count": null,
      "outputs": []
    },
    {
      "cell_type": "code",
      "metadata": {
        "id": "ywCWHulpf4pY"
      },
      "source": [
        "columns = 4\n",
        "plt.figsize = (10,10)\n",
        "for i in range(16):\n",
        "    plt.subplot(10/columns+1, columns, i+1)\n",
        "    plt.imshow(x_train[85][i])"
      ],
      "execution_count": null,
      "outputs": []
    },
    {
      "cell_type": "code",
      "metadata": {
        "id": "w2PSpwQOie7F"
      },
      "source": [
        "lb = LabelBinarizer()\n",
        "#y_train = lb.fit_transform(y_train)\n",
        "y_test = lb.fit_transform(y_test)\n",
        "\n"
      ],
      "execution_count": null,
      "outputs": []
    },
    {
      "cell_type": "code",
      "metadata": {
        "id": "FCjQKKEpjI_N"
      },
      "source": [
        "             \n",
        "model = Sequential()\n",
        "#1st layer \n",
        "model.add(Conv3D(filters = 16,kernel_size = (3,3,3), activation = \"relu\", padding = \"same\", name = \"conv1\", input_shape = (None,224,224,3)))\n",
        "model.add(BatchNormalization())\n",
        "model.add(MaxPooling3D(pool_size=(1,2,2), strides=(1,2,2),padding=\"valid\", name=\"pool1\"))\n",
        "#1st layer \n",
        "model.add(Conv3D(filters = 64,kernel_size = (3,3,3), activation = \"relu\", padding = \"same\", name = \"conv2\"))\n",
        "model.add(BatchNormalization())\n",
        "model.add(MaxPooling3D(pool_size=(1,2,2), strides=(1,2,2),padding=\"valid\", name=\"pool2\"))\n",
        "#2nd layer \n",
        "model.add(Conv3D(filters=128, kernel_size=(3,3,3), activation=\"relu\", padding=\"same\", name=\"conv3\"))\n",
        "model.add(BatchNormalization())\n",
        "model.add(MaxPooling3D(pool_size = (2,2,2), strides=(2,2,2), padding=\"valid\", name=\"pool3\"))\n",
        "#3rd layer\n",
        "model.add(Conv3D(filters=256, kernel_size=(3,3,3), activation=\"relu\", padding=\"same\", name = \"conv4a\"))\n",
        "model.add(Conv3D(filters=256, kernel_size=(3,3,3), activation=\"relu\", padding=\"same\", name = \"conv4b\"))\n",
        "model.add(BatchNormalization())\n",
        "model.add(MaxPooling3D(pool_size=(2,2,2), strides=(2,2,2), padding=\"valid\", name=\"pool4\"))\n",
        "#4th layer\n",
        "model.add(Conv3D(filters=512, kernel_size=(3,3,3), activation=\"relu\", padding=\"same\", name = \"conv5a\"))\n",
        "model.add(Conv3D(filters=512, kernel_size=(3,3,3), activation=\"relu\", padding=\"same\", name = \"conv5b\"))\n",
        "model.add(BatchNormalization())\n",
        "model.add(MaxPooling3D(pool_size=(2,2,2), strides=(2,2,2), padding=\"valid\", name=\"pool5\"))\n",
        "#5th layer \n",
        "model.add(Conv3D(filters=512, kernel_size=(3,3,3), activation=\"relu\", padding=\"same\", name = \"conv6a\"))\n",
        "model.add(Conv3D(filters=512, kernel_size=(3,3,3), activation=\"relu\", padding=\"same\", name = \"conv6b\"))\n",
        "model.add(BatchNormalization())\n",
        "model.add(ZeroPadding3D(padding=(0,1,1)))\n",
        "model.add(MaxPooling3D(pool_size=(2,2,2), strides=(2,2,2), padding=\"valid\", name=\"pool6\"))\n",
        "\n",
        "#model.add(Flatten())\n",
        "model.add(GlobalAveragePooling3D())\n",
        "#FC layers\n",
        "    \n",
        "model.add(Dense(512, activation='relu', name='fc9'))\n",
        "model.add(BatchNormalization())\n",
        "model.add(Dense(128, activation='relu', name='fc10'))\n",
        "model.add(BatchNormalization())\n",
        "model.add(Dropout(0.3))\n",
        "model.add(Dense(16, activation='relu', name='fc11'))\n",
        "model.add(BatchNormalization())\n",
        "model.add(Dense(1, activation='sigmoid'))\n",
        "    \n",
        "metrics = [\"accuracy\"]\n",
        "optimizer = Adam(lr = 1e-5, decay = 1e-6)\n",
        "model.compile(loss='binary_crossentropy', optimizer=optimizer,metrics=metrics)\n",
        "\n",
        "    \n",
        "    \n",
        "    \n",
        "    \n",
        "    "
      ],
      "execution_count": null,
      "outputs": []
    },
    {
      "cell_type": "code",
      "metadata": {
        "id": "uHQDlDlXWO2o"
      },
      "source": [
        "model.summary()"
      ],
      "execution_count": null,
      "outputs": []
    },
    {
      "cell_type": "code",
      "metadata": {
        "id": "ORHPsGPbjQCa"
      },
      "source": [
        "hist = model.fit(x_train, y_train, validation_data=(x_test,y_test),batch_size=16,epochs=12,shuffle=True)"
      ],
      "execution_count": null,
      "outputs": []
    },
    {
      "cell_type": "code",
      "metadata": {
        "id": "vcgTdssrjU0f"
      },
      "source": [
        "model.save(\"/content/drive/MyDrive/Colab Notebooks/3D-CNN/3dcnn_3.h5\")"
      ],
      "execution_count": null,
      "outputs": []
    },
    {
      "cell_type": "code",
      "metadata": {
        "id": "6UtjWL09qhQh"
      },
      "source": [
        "loaded_model = keras.models.load_model('/content/drive/MyDrive/Colab Notebooks/3D-CNN/3dcnn_3.h5')"
      ],
      "execution_count": null,
      "outputs": []
    },
    {
      "cell_type": "code",
      "metadata": {
        "id": "0hk5Y_lS8Y2_"
      },
      "source": [
        "X_test = x_test/255.0\n",
        "loaded_model.evaluate(X_test, y_test)"
      ],
      "execution_count": null,
      "outputs": []
    },
    {
      "cell_type": "code",
      "metadata": {
        "colab": {
          "background_save": true
        },
        "id": "rrL5j5k0n4zE"
      },
      "source": [
        "#Q = deque([],maxlen = 16)\n",
        "vs = cv2.VideoCapture(\"/content/drive/MyDrive/Colab Notebooks/3D-CNN/test_video_1.mp4\")\n",
        "#vs = cv2.VideoCapture(0)\n",
        "\n",
        "label = None\n",
        "#output_path = 'result_3dcnn_1.mp4'\n",
        "\n",
        "while True:\n",
        "  inp = []\n",
        "  for times in range(16):\n",
        "\n",
        "    (grabbed, frame) = vs.read()\n",
        "    #print(grabbed)\n",
        "    if not grabbed:\n",
        "      break \n",
        "   \n",
        "    output = frame.copy()\n",
        "    frame = cv2.cvtColor(frame, cv2.COLOR_BGR2RGB)\n",
        "    frame = cv2.resize(frame, (224,224)).astype(\"float32\")\n",
        "    frame = np.array(frame)\n",
        "    frame = frame/255.0\n",
        "    inp.append(frame)\n",
        "    \n",
        "\n",
        "  inp = np.array(inp)\n",
        "  \n",
        "  preds = loaded_model.predict(np.expand_dims(inp, axis=0))[0]  \n",
        "  #preds = loaded_model.predict(input)\n",
        "  #Q.append(preds)\n",
        "    \n",
        "  #results = np.array(Q).mean(axis=0)\n",
        "  \n",
        "  if preds >= 0.5:\n",
        "    print(\"Violent\")  \n",
        "  else:\n",
        "    print(\"non-violent\")\n",
        "      \n",
        "  \n",
        "  cv2_imshow(output)\n",
        "  key = cv2.waitKey(1) & 0xFF\n",
        "  if key == 27:\n",
        "      break\n",
        "\n",
        "cv2.destroyAllWindows() "
      ],
      "execution_count": null,
      "outputs": []
    },
    {
      "cell_type": "code",
      "metadata": {
        "id": "jUeHsRtLHqvu"
      },
      "source": [
        ""
      ],
      "execution_count": null,
      "outputs": []
    },
    {
      "cell_type": "code",
      "metadata": {
        "id": "UkvTKlF6KW5P"
      },
      "source": [
        ""
      ],
      "execution_count": null,
      "outputs": []
    },
    {
      "cell_type": "code",
      "metadata": {
        "id": "NUkFzIcSfwNm"
      },
      "source": [
        ""
      ],
      "execution_count": null,
      "outputs": []
    }
  ]
}